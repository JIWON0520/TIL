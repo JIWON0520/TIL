{
  "cells": [
    {
      "cell_type": "markdown",
      "metadata": {
        "id": "view-in-github",
        "colab_type": "text"
      },
      "source": [
        "<a href=\"https://colab.research.google.com/github/JIWON0520/TIL/blob/main/Paper%20Review/Alexnet_%EA%B5%AC%ED%98%84.ipynb\" target=\"_parent\"><img src=\"https://colab.research.google.com/assets/colab-badge.svg\" alt=\"Open In Colab\"/></a>"
      ]
    },
    {
      "cell_type": "code",
      "execution_count": 1,
      "metadata": {
        "id": "NVIBd-Vb4ulQ"
      },
      "outputs": [],
      "source": [
        "import torch\n",
        "from torchvision import datasets,transforms\n",
        "from torch.utils.data import DataLoader\n",
        "import torch.nn as nn\n",
        "import torch.nn.functional as F\n",
        "import torch.optim as optim\n",
        "import matplotlib.pyplot as plt\n",
        "from torch.optim.lr_scheduler import StepLR"
      ]
    },
    {
      "cell_type": "code",
      "execution_count": null,
      "metadata": {
        "id": "xznW13r0cB_F"
      },
      "outputs": [],
      "source": [
        "!mkdir /content/drive/MyDrive/Alexnet"
      ]
    },
    {
      "cell_type": "code",
      "execution_count": null,
      "metadata": {
        "id": "aDWBK7_a5UhC"
      },
      "outputs": [],
      "source": [
        "device=torch.device('cuda:0' if torch.cuda.is_available() else 'cpu')\n",
        "print(device)"
      ]
    },
    {
      "cell_type": "code",
      "execution_count": null,
      "metadata": {
        "id": "F3YtFFZeatMd"
      },
      "outputs": [],
      "source": [
        "#image 256X256사이즈로 변경후 227X227로 crop\n",
        "transform=transforms.Compose([\n",
        "                              transforms.Resize(256),\n",
        "                              transforms.RandomCrop(227),\n",
        "                              transforms.ToTensor(),\n",
        "                              transforms.Normalize((0.5,0.5,0.5),(0.5,0.5,0.5))\n",
        "])\n",
        "\n",
        "trainset=datasets.CIFAR10('/content/drive/MyDrive/Alexnet',download=True,train=True,transform=transform)\n",
        "trainset=DataLoader(trainset,batch_size=256,shuffle=True)\n",
        "testset=datasets.CIFAR10('/content/drive/MyDrive/Alexnet',download=True,train=False,transform=transform)\n",
        "testset=DataLoader(testset,batch_size=128,shuffle=True)"
      ]
    },
    {
      "cell_type": "code",
      "execution_count": 4,
      "metadata": {
        "id": "y8VagdGgdJ7R"
      },
      "outputs": [],
      "source": [
        "class AlexNet(nn.Module):\n",
        "  def __init__(self,num_classes=10):\n",
        "    super(AlexNet,self).__init__()\n",
        "\n",
        "    self.convLayer=nn.Sequential(\n",
        "        #Conv 1: Conv,ReLU,LRN,pool\n",
        "        nn.Conv2d(in_channels=3,out_channels=96,kernel_size=11,padding=0,stride=4),\n",
        "        nn.ReLU(inplace=True),\n",
        "        nn.LocalResponseNorm(size=5,alpha=0.0001,beta=0.75,k=2),\n",
        "        nn.MaxPool2d(kernel_size=3,stride=2),\n",
        "\n",
        "        #Conv 2: Conv,ReLU,LRN,pool\n",
        "        nn.Conv2d(in_channels=96,out_channels=256,kernel_size=5,padding=2,stride=1),\n",
        "        nn.ReLU(),\n",
        "        nn.LocalResponseNorm(size=5,alpha=0.0001,beta=0.75,k=2),\n",
        "        nn.MaxPool2d(kernel_size=3,stride=2),\n",
        "\n",
        "        #Conv 3: Conv,ReLU\n",
        "        nn.Conv2d(in_channels=256,out_channels=384,kernel_size=3,padding=1,stride=1),\n",
        "        nn.ReLU(),\n",
        "\n",
        "        #Conv 4: ConV,ReLU\n",
        "        nn.Conv2d(in_channels=384,out_channels=384,kernel_size=3,padding=1,stride=1),\n",
        "        nn.ReLU(),\n",
        "\n",
        "        #Conv 5: Conv,ReLU,LRN,pool\n",
        "        nn.Conv2d(in_channels=384,out_channels=256,kernel_size=3,padding=1,stride=1),\n",
        "        nn.ReLU(),\n",
        "        nn.MaxPool2d(kernel_size=3,stride=2),\n",
        "    )\n",
        "\n",
        "    self.fcLayer=nn.Sequential(\n",
        "        #fc 1: fc,ReLU,dropout\n",
        "        nn.Linear(in_features=(256*6*6),out_features=4096),\n",
        "        nn.ReLU(inplace=True),\n",
        "        nn.Dropout(p=0.5),\n",
        "\n",
        "        #fc 2:fc,ReLU,dropout\n",
        "        nn.Linear(in_features=4096,out_features=4096),\n",
        "        nn.ReLU(inplace=True),\n",
        "        nn.Dropout(p=0.5),\n",
        "\n",
        "        #fc 3:fc\n",
        "        nn.Linear(in_features=4096,out_features=num_classes),\n",
        "    )\n",
        "\n",
        "    for layer in self.convLayer:\n",
        "      if isinstance(layer,nn.Conv2d):\n",
        "        nn.init.normal_(layer.weight,mean=0,std=0.01)\n",
        "        nn.init.constant_(layer.bias,0)\n",
        "      elif isinstance(layer,nn.Linear):\n",
        "        nn.init.normal_(layer.weight,mean=0,std=0.01)\n",
        "        nn.init.constant_(layer.bias,1)\n",
        "\n",
        "    nn.init.constant_(self.convLayer[4].bias,1)\n",
        "    nn.init.constant_(self.convLayer[10].bias,1)\n",
        "    nn.init.constant_(self.convLayer[12].bias,1)\n",
        "\n",
        "  def forward(self,x):\n",
        "    x=self.convLayer(x)\n",
        "    x=x.view(-1,256*6*6)\n",
        "    x=self.fcLayer(x)\n",
        "    return x"
      ]
    },
    {
      "cell_type": "code",
      "execution_count": 6,
      "metadata": {
        "id": "jIzZNdbczo_J"
      },
      "outputs": [],
      "source": [
        "alexnet=AlexNet(num_classes=10).to(device)\n",
        "\n",
        "#Optimizer 생성\n",
        "#learning rate=0.01, momentum=0.9, weigth decay=0.0005\n",
        "optimizer=optim.SGD(net.parameters(),lr=0.001,momentum=0.9, weight_decay=0.0005)\n",
        "criterion=nn.CrossEntropyLoss()"
      ]
    },
    {
      "cell_type": "code",
      "execution_count": null,
      "metadata": {
        "id": "iu4EeP8P2o__"
      },
      "outputs": [],
      "source": [
        "alexnet.train()\n",
        "lr_scheduler=optim.lr_scheduler.StepLR(optimizer,step_size=30,gamma=0.1)\n",
        "epochs=90\n",
        "iteration=len(trainset)\n",
        "for epoch in range(epochs):\n",
        "  epoch_loss=0\n",
        "  for data,classes in trainset:\n",
        "    inputs,labels=data.to(device),classes.to(device)\n",
        "    \n",
        "    optimizer.zero_grad()\n",
        "    outputs=net(inputs)\n",
        "    loss=criterion(outputs,labels)\n",
        "    loss.backward()\n",
        "    optimizer.step()\n",
        "    epoch_loss+=loss.item()\n",
        "  lr_scheduler.step()\n",
        "\n",
        "  print('epoch{0} loss:{1:.3f}'.format(epoch,epoch_loss/iteration))\n"
      ]
    },
    {
      "cell_type": "code",
      "execution_count": null,
      "metadata": {
        "id": "DjReN40W8uja"
      },
      "outputs": [],
      "source": [
        "alexnet.eval()\n",
        "\n",
        "with torch.no_grad():\n",
        "  total=0.0\n",
        "  accuracy=0.0\n",
        "  for data,classes in testset:\n",
        "    inputs,labels=data.to(device),classes.to(device)\n",
        "\n",
        "    outputs=alexnet(inputs)\n",
        "\n",
        "    _,pred=torch.max(outputs.data,1)\n",
        "    total+=outputs.size(0)\n",
        "    accuracy+=(pred==labels).sum().item()\n",
        "print((accuracy/total)*100)"
      ]
    },
    {
      "cell_type": "code",
      "source": [
        ""
      ],
      "metadata": {
        "id": "DVp6a2AS_9Ud"
      },
      "execution_count": null,
      "outputs": []
    }
  ],
  "metadata": {
    "accelerator": "GPU",
    "colab": {
      "collapsed_sections": [],
      "name": "Alexnet 구현.ipynb",
      "provenance": [],
      "mount_file_id": "1H0hkGxDq7uVIjtEmVWfmzchwzUNVlICk",
      "authorship_tag": "ABX9TyNi1YJlYL+s5seblbabDwOf",
      "include_colab_link": true
    },
    "kernelspec": {
      "display_name": "Python 3",
      "name": "python3"
    },
    "language_info": {
      "name": "python"
    }
  },
  "nbformat": 4,
  "nbformat_minor": 0
}