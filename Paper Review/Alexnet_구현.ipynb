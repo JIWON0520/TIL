{
  "nbformat": 4,
  "nbformat_minor": 0,
  "metadata": {
    "colab": {
      "name": "Alexnet 구현.ipynb",
      "provenance": [],
      "collapsed_sections": [],
      "mount_file_id": "1H0hkGxDq7uVIjtEmVWfmzchwzUNVlICk",
      "authorship_tag": "ABX9TyOF3hz92j9KL1vofS+lfv5T",
      "include_colab_link": true
    },
    "kernelspec": {
      "name": "python3",
      "display_name": "Python 3"
    },
    "language_info": {
      "name": "python"
    },
    "accelerator": "GPU"
  },
  "cells": [
    {
      "cell_type": "markdown",
      "metadata": {
        "id": "view-in-github",
        "colab_type": "text"
      },
      "source": [
        "<a href=\"https://colab.research.google.com/github/JIWON0520/TIL/blob/main/Alexnet_%EA%B5%AC%ED%98%84.ipynb\" target=\"_parent\"><img src=\"https://colab.research.google.com/assets/colab-badge.svg\" alt=\"Open In Colab\"/></a>"
      ]
    },
    {
      "cell_type": "code",
      "execution_count": 1,
      "metadata": {
        "id": "NVIBd-Vb4ulQ"
      },
      "outputs": [],
      "source": [
        "import torch\n",
        "from torchvision import datasets,transforms\n",
        "from torch.utils.data import DataLoader\n",
        "import torch.nn as nn\n",
        "import torch.nn.functional as F\n",
        "import torch.optim as optim\n",
        "import matplotlib.pyplot as plt"
      ]
    },
    {
      "cell_type": "code",
      "source": [
        "!mkdir /content/drive/MyDrive/Alexnet"
      ],
      "metadata": {
        "colab": {
          "base_uri": "https://localhost:8080/"
        },
        "id": "xznW13r0cB_F",
        "outputId": "68ead21e-73fe-43da-ecb1-904656259767"
      },
      "execution_count": 2,
      "outputs": [
        {
          "output_type": "stream",
          "name": "stdout",
          "text": [
            "mkdir: cannot create directory ‘/content/drive/MyDrive/Alexnet’: File exists\n"
          ]
        }
      ]
    },
    {
      "cell_type": "code",
      "source": [
        "device=torch.device('cuda:0' if torch.cuda.is_available() else 'cpu')\n",
        "print(device)"
      ],
      "metadata": {
        "colab": {
          "base_uri": "https://localhost:8080/"
        },
        "id": "aDWBK7_a5UhC",
        "outputId": "1fcc4840-0aaa-41c2-ea9d-3a54f82a9983"
      },
      "execution_count": 3,
      "outputs": [
        {
          "output_type": "stream",
          "name": "stdout",
          "text": [
            "cuda:0\n"
          ]
        }
      ]
    },
    {
      "cell_type": "code",
      "source": [
        "#image 256X256사이즈로 변경후 227X227로 crop\n",
        "transform=transforms.Compose([\n",
        "                              transforms.Resize(256),\n",
        "                              transforms.RandomCrop(227),\n",
        "                              transforms.ToTensor(),\n",
        "                              transforms.Normalize((0.5,0.5,0.5),(0.5,0.5,0.5))\n",
        "])\n",
        "\n",
        "trainset=datasets.CIFAR10('/content/drive/MyDrive/Alexnet',download=True,train=True,transform=transform)\n",
        "trainset=DataLoader(trainset,batch_size=128,shuffle=True)\n",
        "testset=datasets.CIFAR10('/content/drive/MyDrive/Alexnet',download=True,train=False,transform=transform)\n",
        "testset=DataLoader(testset,batch_size=128,shuffle=True)"
      ],
      "metadata": {
        "colab": {
          "base_uri": "https://localhost:8080/"
        },
        "id": "F3YtFFZeatMd",
        "outputId": "4375585e-2ae3-4ed9-ef3a-46a8c5e656a6"
      },
      "execution_count": 4,
      "outputs": [
        {
          "output_type": "stream",
          "name": "stdout",
          "text": [
            "Files already downloaded and verified\n",
            "Files already downloaded and verified\n"
          ]
        }
      ]
    },
    {
      "cell_type": "code",
      "source": [
        "from torch.nn.modules.pooling import MaxPool2d\n",
        "class AlexNet(nn.Module):\n",
        "  def __init__(self):\n",
        "    super(AlexNet,self).__init__()\n",
        "\n",
        "    self.convLayer=nn.Sequential(\n",
        "        #Conv 1: Conv,ReLU,LRN,pool\n",
        "        nn.Conv2d(in_channels=3,out_channels=96,kernel_size=11,padding=0,stride=4),\n",
        "        nn.ReLU(inplace=True),\n",
        "        nn.LocalResponseNorm(size=5,alpha=0.0001,beta=0.75,k=2),\n",
        "        nn.MaxPool2d(kernel_size=3,stride=2),\n",
        "\n",
        "        #Conv 2: Conv,ReLU,LRN,pool\n",
        "        nn.Conv2d(in_channels=96,out_channels=256,kernel_size=5,padding=2,stride=1),\n",
        "        nn.ReLU(inplace=True),\n",
        "        nn.LocalResponseNorm(size=5,alpha=0.0001,beta=0.75,k=2),\n",
        "        nn.MaxPool2d(kernel_size=3,stride=2),\n",
        "\n",
        "        #Conv 3: Conv,ReLU\n",
        "        nn.Conv2d(in_channels=256,out_channels=384,kernel_size=3,padding=1,stride=1),\n",
        "        nn.ReLU(inplace=True),\n",
        "\n",
        "        #Conv 4: ConV,ReLU\n",
        "        nn.Conv2d(in_channels=384,out_channels=384,kernel_size=3,padding=1,stride=1),\n",
        "        nn.ReLU(inplace=True),\n",
        "\n",
        "        #Conv 5: Conv,ReLU,LRN,pool\n",
        "        nn.Conv2d(in_channels=384,out_channels=256,kernel_size=3,padding=1,stride=1),\n",
        "        nn.ReLU(inplace=True),\n",
        "        nn.LocalResponseNorm(size=5,alpha=0.0001,beta=0.75,k=2),\n",
        "        nn.MaxPool2d(kernel_size=3,stride=2)\n",
        "    )\n",
        "\n",
        "    self.fcLayer=nn.Sequential(\n",
        "        #fc 1: fc,ReLU,dropout\n",
        "        nn.Linear(in_features=(256*6*6),out_features=4096),\n",
        "        nn.ReLU(inplace=True),\n",
        "        nn.Dropout(p=0.5,inplace=True),\n",
        "\n",
        "        #fc 2:fc,ReLU,dropout\n",
        "        nn.Linear(in_features=4096,out_features=4096),\n",
        "        nn.ReLU(inplace=True),\n",
        "        nn.Dropout(p=0.5,inplace=True),\n",
        "\n",
        "        #fc 3:fc\n",
        "        nn.Linear(in_features=4096,out_features=10)\n",
        "    )\n",
        "\n",
        "    for layer in self.convLayer:\n",
        "      if isinstance(layer,nn.Conv2d):\n",
        "        nn.init.normal_(layer.weight,mean=0,std=0.01)\n",
        "        nn.init.constant_(layer.bias,0)\n",
        "\n",
        "    nn.init.constant_(self.convLayer[4].bias,1)\n",
        "    nn.init.constant_(self.convLayer[10].bias,1)\n",
        "    nn.init.constant_(self.convLayer[12].bias,1)\n",
        "\n",
        "  def forward(self,train):\n",
        "    output=self.convLayer(train)\n",
        "    output=output.view(-1,256*6*6)\n",
        "    output=self.fcLayer(output)\n",
        "      \n",
        "    return output"
      ],
      "metadata": {
        "id": "y8VagdGgdJ7R"
      },
      "execution_count": 17,
      "outputs": []
    },
    {
      "cell_type": "code",
      "source": [
        "alexnet=AlexNet().to(device)\n",
        "\n",
        "#Optimizer 생성\n",
        "#learning rate=0.01, momentum=0.9, weigth decay=0.0005\n",
        "optimizer=optim.SGD(alexnet.parameters(),lr=0.01,momentum=0.9,weight_decay=0.0005)\n",
        "criterion=nn.CrossEntropyLoss().to(device)"
      ],
      "metadata": {
        "id": "jIzZNdbczo_J"
      },
      "execution_count": 24,
      "outputs": []
    },
    {
      "cell_type": "code",
      "source": [
        "epochs=5\n",
        "iteration=len(trainset)\n",
        "for epoch in range(epochs):\n",
        "  epoch_loss=0\n",
        "  for data,classes in trainset:\n",
        "    inputs,labels=data.to(device),classes.to(device)\n",
        "\n",
        "    optimizer.zero_grad()\n",
        "    outputs=alexnet(inputs)\n",
        "\n",
        "    loss=criterion(outputs,labels)\n",
        "    loss.backward()\n",
        "    optimizer.step()\n",
        "    epoch_loss+=loss.item()\n",
        "    print(loss.item())\n",
        "  print('epoch {0} loss:{1:.3f}'.format(epoch,epoch_loss/iteration))\n"
      ],
      "metadata": {
        "colab": {
          "base_uri": "https://localhost:8080/",
          "height": 835
        },
        "id": "iu4EeP8P2o__",
        "outputId": "17638be1-a7a5-4861-d9e0-2f3230254ac0"
      },
      "execution_count": 20,
      "outputs": [
        {
          "output_type": "stream",
          "name": "stdout",
          "text": [
            "2.3287136554718018\n",
            "2.3345582485198975\n",
            "2.345329761505127\n",
            "2.3476603031158447\n",
            "2.319033145904541\n",
            "2.3137118816375732\n",
            "2.332839250564575\n",
            "2.314603567123413\n",
            "2.3244614601135254\n",
            "2.3237144947052\n",
            "2.304042339324951\n",
            "2.3226699829101562\n",
            "2.3042683601379395\n",
            "2.2942044734954834\n",
            "2.3294451236724854\n",
            "2.2821857929229736\n",
            "2.3092265129089355\n",
            "2.296130418777466\n",
            "2.36281156539917\n",
            "2.3219425678253174\n",
            "2.329435110092163\n",
            "2.3191287517547607\n",
            "2.318396806716919\n",
            "2.3211677074432373\n",
            "2.2908082008361816\n",
            "2.3477766513824463\n",
            "2.3166439533233643\n",
            "2.3109068870544434\n",
            "2.328735113143921\n",
            "2.321251392364502\n",
            "2.3158555030822754\n",
            "2.320390224456787\n"
          ]
        },
        {
          "output_type": "error",
          "ename": "KeyboardInterrupt",
          "evalue": "ignored",
          "traceback": [
            "\u001b[0;31m---------------------------------------------------------------------------\u001b[0m",
            "\u001b[0;31mKeyboardInterrupt\u001b[0m                         Traceback (most recent call last)",
            "\u001b[0;32m<ipython-input-20-5fd7763fef1a>\u001b[0m in \u001b[0;36m<module>\u001b[0;34m()\u001b[0m\n\u001b[1;32m     12\u001b[0m     \u001b[0mloss\u001b[0m\u001b[0;34m.\u001b[0m\u001b[0mbackward\u001b[0m\u001b[0;34m(\u001b[0m\u001b[0;34m)\u001b[0m\u001b[0;34m\u001b[0m\u001b[0;34m\u001b[0m\u001b[0m\n\u001b[1;32m     13\u001b[0m     \u001b[0moptimizer\u001b[0m\u001b[0;34m.\u001b[0m\u001b[0mstep\u001b[0m\u001b[0;34m(\u001b[0m\u001b[0;34m)\u001b[0m\u001b[0;34m\u001b[0m\u001b[0;34m\u001b[0m\u001b[0m\n\u001b[0;32m---> 14\u001b[0;31m     \u001b[0mepoch_loss\u001b[0m\u001b[0;34m+=\u001b[0m\u001b[0mloss\u001b[0m\u001b[0;34m.\u001b[0m\u001b[0mitem\u001b[0m\u001b[0;34m(\u001b[0m\u001b[0;34m)\u001b[0m\u001b[0;34m\u001b[0m\u001b[0;34m\u001b[0m\u001b[0m\n\u001b[0m\u001b[1;32m     15\u001b[0m     \u001b[0mprint\u001b[0m\u001b[0;34m(\u001b[0m\u001b[0mloss\u001b[0m\u001b[0;34m.\u001b[0m\u001b[0mitem\u001b[0m\u001b[0;34m(\u001b[0m\u001b[0;34m)\u001b[0m\u001b[0;34m)\u001b[0m\u001b[0;34m\u001b[0m\u001b[0;34m\u001b[0m\u001b[0m\n\u001b[1;32m     16\u001b[0m   \u001b[0mprint\u001b[0m\u001b[0;34m(\u001b[0m\u001b[0;34m'epoch {0} loss:{1:.3f}'\u001b[0m\u001b[0;34m.\u001b[0m\u001b[0mformat\u001b[0m\u001b[0;34m(\u001b[0m\u001b[0mepoch\u001b[0m\u001b[0;34m,\u001b[0m\u001b[0mepoch_loss\u001b[0m\u001b[0;34m/\u001b[0m\u001b[0miteration\u001b[0m\u001b[0;34m)\u001b[0m\u001b[0;34m)\u001b[0m\u001b[0;34m\u001b[0m\u001b[0;34m\u001b[0m\u001b[0m\n",
            "\u001b[0;31mKeyboardInterrupt\u001b[0m: "
          ]
        }
      ]
    },
    {
      "cell_type": "code",
      "source": [
        "alexnet.eval()\n",
        "\n",
        "with torch.no_grad():\n",
        "  total=0.0\n",
        "  accuracy=0.0\n",
        "  for data,classes in testset:\n",
        "    inputs,labels=data.to(device),classes.to(device)\n",
        "\n",
        "    outputs=alexnet(inputs)\n",
        "\n",
        "    _,pred=torch.max(outputs.data,1)\n",
        "    total+=outputs.size(0)\n",
        "    accuracy+=(pred==labels).sum().item()\n",
        "print((accuracy/total)*100)"
      ],
      "metadata": {
        "colab": {
          "base_uri": "https://localhost:8080/"
        },
        "id": "DjReN40W8uja",
        "outputId": "9b6cb590-981d-4a7d-8e2f-3b71781aad8d"
      },
      "execution_count": 13,
      "outputs": [
        {
          "output_type": "stream",
          "name": "stdout",
          "text": [
            "10.0\n"
          ]
        }
      ]
    },
    {
      "cell_type": "code",
      "source": [
        ""
      ],
      "metadata": {
        "id": "kJ-xhkq98wEg"
      },
      "execution_count": null,
      "outputs": []
    }
  ]
}
